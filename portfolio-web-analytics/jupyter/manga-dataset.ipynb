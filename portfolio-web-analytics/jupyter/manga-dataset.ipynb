{
 "cells": [
  {
   "cell_type": "code",
   "execution_count": 14,
   "id": "0f581e63",
   "metadata": {},
   "outputs": [],
   "source": [
    "from pathlib import Path\n",
    "\n",
    "import pandas as pd\n",
    "import tabulate as tb"
   ]
  },
  {
   "cell_type": "code",
   "execution_count": null,
   "id": "3d10ff2b",
   "metadata": {},
   "outputs": [
    {
     "name": "stdout",
     "output_type": "stream",
     "text": [
      "╭───────────────────────────────────┬─────────┬────────┬──────────┬──────────────┬───────────┬────────────┬───────────┬────────────┬──────────┬───────────────────────────────┬────────────────────────────┬──────────┬────────────────┬───────────────────┬───────────────────────────╮\n",
      "│ Title                             │   Score │   Vote │   Ranked │   Popularity │ Members   │ Favorite   │   Volumes │   Chapters │ Status   │ Published                     │ Genres                     │ Themes   │ Demographics   │ Serialization     │ Author                    │\n",
      "├───────────────────────────────────┼─────────┼────────┼──────────┼──────────────┼───────────┼────────────┼───────────┼────────────┼──────────┼───────────────────────────────┼────────────────────────────┼──────────┼────────────────┼───────────────────┼───────────────────────────┤\n",
      "│ Oyasumi Punpun (Goodnight Punpun) │    9.01 │ 176269 │       10 │            9 │ 430,160   │ 51,039     │        13 │        147 │ Finished │ Mar  15, 2007 to Nov  2, 2013 │ ['Drama', 'Slice of Life'] │ []       │ ['Seinen']     │ Big Comic Spirits │ Asano, Inio (Story & Art) │\n",
      "╰───────────────────────────────────┴─────────┴────────┴──────────┴──────────────┴───────────┴────────────┴───────────┴────────────┴──────────┴───────────────────────────────┴────────────────────────────┴──────────┴────────────────┴───────────────────┴───────────────────────────╯\n"
     ]
    }
   ],
   "source": [
    "# carregue o arquivo manga.csv usando pandas e pathlib\n",
    "csv_path = Path(\"./data/datasets/manga.csv\")\n",
    "df_manga = pd.read_csv(csv_path)\n",
    "\n",
    "# filtre linhas onde 'Title' contém \"punpun\" (case-insensitive)\n",
    "df_punpun = df_manga[df_manga[\"Title\"].str.contains(\"punpun\", case=False, na=False)]\n",
    "print(tb.tabulate(df_punpun, headers=\"keys\", tablefmt=\"rounded_grid\", showindex=False))"
   ]
  },
  {
   "cell_type": "code",
   "execution_count": null,
   "id": "22f51305",
   "metadata": {},
   "outputs": [
    {
     "name": "stdout",
     "output_type": "stream",
     "text": [
      "[\n",
      "  {\n",
      "    \"Title\":\"Oyasumi Punpun (Goodnight Punpun)\",\n",
      "    \"Score\":9.01,\n",
      "    \"Vote\":176269,\n",
      "    \"Ranked\":10,\n",
      "    \"Popularity\":9,\n",
      "    \"Members\":\"430,160\",\n",
      "    \"Favorite\":\"51,039\",\n",
      "    \"Volumes\":\"13\",\n",
      "    \"Chapters\":\"147\",\n",
      "    \"Status\":\"Finished\",\n",
      "    \"Published\":\"Mar  15, 2007 to Nov  2, 2013\",\n",
      "    \"Genres\":\"['Drama', 'Slice of Life']\",\n",
      "    \"Themes\":\"[]\",\n",
      "    \"Demographics\":\"['Seinen']\",\n",
      "    \"Serialization\":\"Big Comic Spirits\",\n",
      "    \"Author\":\"Asano, Inio (Story & Art)\"\n",
      "  }\n",
      "]\n"
     ]
    }
   ],
   "source": [
    "# converta o dataframe para json, printe e salve em ./data/kaggle_mangas.json\n",
    "json_path = Path(\"./data/kaggle_mangas.json\")\n",
    "df_punpun.to_json(json_path, orient=\"records\", force_ascii=False, indent=2)\n",
    "print(df_punpun.to_json(orient=\"records\", force_ascii=False, indent=2))"
   ]
  }
 ],
 "metadata": {
  "kernelspec": {
   "display_name": ".venv",
   "language": "python",
   "name": "python3"
  },
  "language_info": {
   "codemirror_mode": {
    "name": "ipython",
    "version": 3
   },
   "file_extension": ".py",
   "mimetype": "text/x-python",
   "name": "python",
   "nbconvert_exporter": "python",
   "pygments_lexer": "ipython3",
   "version": "3.13.2"
  }
 },
 "nbformat": 4,
 "nbformat_minor": 5
}
